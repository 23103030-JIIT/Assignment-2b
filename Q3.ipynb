{
 "cells": [
  {
   "cell_type": "code",
   "execution_count": 5,
   "id": "fd7b7639",
   "metadata": {},
   "outputs": [
    {
     "name": "stdout",
     "output_type": "stream",
     "text": [
      "Hermione\n",
      "Ron\n",
      "Ove\n",
      "Morrie\n"
     ]
    }
   ],
   "source": [
    "map={'Harry': 25, 'Hermione': 30, 'Ron': 45, 'Ove': 80, 'Morrie': 80}\n",
    "for key in map:\n",
    "    if(map[key]>25):\n",
    "        print(key)"
   ]
  },
  {
   "cell_type": "code",
   "execution_count": 6,
   "id": "c6f297a2",
   "metadata": {},
   "outputs": [
    {
     "name": "stdout",
     "output_type": "stream",
     "text": [
      "{'Harry': 25, 'Hermione': 30, 'Ron': 45, 'Ove': 80, 'Morrie': 80, 'Bob': 30}\n"
     ]
    }
   ],
   "source": [
    "map['Bob']=30\n",
    "print(map)"
   ]
  },
  {
   "cell_type": "code",
   "execution_count": 7,
   "id": "953a95d0",
   "metadata": {},
   "outputs": [
    {
     "name": "stdout",
     "output_type": "stream",
     "text": [
      "key:  Harry\n",
      "key:  Hermione\n",
      "key:  Ron\n",
      "key:  Ove\n",
      "key:  Morrie\n",
      "key:  Bob\n"
     ]
    }
   ],
   "source": [
    "for (key, value) in map.items():\n",
    "    print(\"key: \", key)"
   ]
  },
  {
   "cell_type": "code",
   "execution_count": 8,
   "id": "92cc8f49",
   "metadata": {},
   "outputs": [
    {
     "name": "stdout",
     "output_type": "stream",
     "text": [
      "{'Harry': 25, 'Hermione': 30, 'Ove': 80, 'Morrie': 80, 'Bob': 30}\n"
     ]
    }
   ],
   "source": [
    "del map['Ron']\n",
    "print(map)"
   ]
  },
  {
   "cell_type": "code",
   "execution_count": 14,
   "id": "43edb1bd",
   "metadata": {},
   "outputs": [
    {
     "name": "stdout",
     "output_type": "stream",
     "text": [
      "Average:  44.0\n"
     ]
    }
   ],
   "source": [
    "avg=0.0\n",
    "sum=0.0\n",
    "for key in map:\n",
    "    if(map[key]>25):\n",
    "        sum+=map[key]\n",
    "avg=sum/len(map)\n",
    "print(\"Average: \", avg)"
   ]
  },
  {
   "cell_type": "code",
   "execution_count": null,
   "id": "4878aef8",
   "metadata": {},
   "outputs": [],
   "source": []
  }
 ],
 "metadata": {
  "kernelspec": {
   "display_name": "Python 3 (ipykernel)",
   "language": "python",
   "name": "python3"
  },
  "language_info": {
   "codemirror_mode": {
    "name": "ipython",
    "version": 3
   },
   "file_extension": ".py",
   "mimetype": "text/x-python",
   "name": "python",
   "nbconvert_exporter": "python",
   "pygments_lexer": "ipython3",
   "version": "3.9.7"
  }
 },
 "nbformat": 4,
 "nbformat_minor": 5
}

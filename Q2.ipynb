{
 "cells": [
  {
   "cell_type": "code",
   "execution_count": 1,
   "id": "3124c9c1",
   "metadata": {},
   "outputs": [],
   "source": [
    "students=('Harry', 'Ove', 'Hermione', 'Anne', 'Bob')"
   ]
  },
  {
   "cell_type": "code",
   "execution_count": 2,
   "id": "8d05dfba",
   "metadata": {},
   "outputs": [
    {
     "name": "stdout",
     "output_type": "stream",
     "text": [
      "('Harry', 'Ove', 'Hermione', 'Anne', 'Bob')\n"
     ]
    }
   ],
   "source": [
    "print(students)"
   ]
  },
  {
   "cell_type": "code",
   "execution_count": 15,
   "id": "f4738c13",
   "metadata": {},
   "outputs": [
    {
     "name": "stdout",
     "output_type": "stream",
     "text": [
      "('Harry', 'Ove', 'Hermione', 'Anne', 'Bob', 'meow', 'Casey', 'meow', 'Casey')\n"
     ]
    }
   ],
   "source": [
    "newname=('meow','Casey');\n",
    "students=students+newname;\n",
    "print(students)"
   ]
  },
  {
   "cell_type": "code",
   "execution_count": 20,
   "id": "f1102556",
   "metadata": {},
   "outputs": [
    {
     "data": {
      "text/plain": [
       "('Harry', 'Ove', 'Hermione', 'Anne', 'Bob', 'meow', 'Casey', 'meow')"
      ]
     },
     "execution_count": 20,
     "metadata": {},
     "output_type": "execute_result"
    }
   ],
   "source": [
    "students[0: len(students)-1]"
   ]
  },
  {
   "cell_type": "code",
   "execution_count": 21,
   "id": "6cf32ed2",
   "metadata": {},
   "outputs": [
    {
     "data": {
      "text/plain": [
       "('Ove', 'Hermione')"
      ]
     },
     "execution_count": 21,
     "metadata": {},
     "output_type": "execute_result"
    }
   ],
   "source": [
    "students[1:3]"
   ]
  },
  {
   "cell_type": "code",
   "execution_count": 22,
   "id": "adbab895",
   "metadata": {},
   "outputs": [
    {
     "ename": "TypeError",
     "evalue": "'tuple' object does not support item assignment",
     "output_type": "error",
     "traceback": [
      "\u001b[1;31m---------------------------------------------------------------------------\u001b[0m",
      "\u001b[1;31mTypeError\u001b[0m                                 Traceback (most recent call last)",
      "\u001b[1;32m~\\AppData\\Local\\Temp/ipykernel_17064/3792153810.py\u001b[0m in \u001b[0;36m<module>\u001b[1;34m\u001b[0m\n\u001b[1;32m----> 1\u001b[1;33m \u001b[0mstudents\u001b[0m\u001b[1;33m[\u001b[0m\u001b[1;36m2\u001b[0m\u001b[1;33m]\u001b[0m\u001b[1;33m=\u001b[0m\u001b[1;34m'tia'\u001b[0m\u001b[1;33m\u001b[0m\u001b[1;33m\u001b[0m\u001b[0m\n\u001b[0m\u001b[0;32m      2\u001b[0m \u001b[0mprint\u001b[0m\u001b[1;33m(\u001b[0m\u001b[0mstudents\u001b[0m\u001b[1;33m)\u001b[0m\u001b[1;33m\u001b[0m\u001b[1;33m\u001b[0m\u001b[0m\n",
      "\u001b[1;31mTypeError\u001b[0m: 'tuple' object does not support item assignment"
     ]
    }
   ],
   "source": [
    "students[2]='tia'\n",
    "print(students)"
   ]
  },
  {
   "cell_type": "code",
   "execution_count": null,
   "id": "7328b39a",
   "metadata": {},
   "outputs": [],
   "source": []
  }
 ],
 "metadata": {
  "kernelspec": {
   "display_name": "Python 3 (ipykernel)",
   "language": "python",
   "name": "python3"
  },
  "language_info": {
   "codemirror_mode": {
    "name": "ipython",
    "version": 3
   },
   "file_extension": ".py",
   "mimetype": "text/x-python",
   "name": "python",
   "nbconvert_exporter": "python",
   "pygments_lexer": "ipython3",
   "version": "3.9.7"
  }
 },
 "nbformat": 4,
 "nbformat_minor": 5
}
